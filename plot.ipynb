{
 "cells": [
  {
   "cell_type": "code",
   "execution_count": 14,
   "id": "initial_id",
   "metadata": {
    "collapsed": true,
    "ExecuteTime": {
     "end_time": "2024-05-31T23:24:14.553082Z",
     "start_time": "2024-05-31T23:24:12.183066Z"
    }
   },
   "outputs": [
    {
     "data": {
      "text/plain": "<Figure size 1000x600 with 0 Axes>"
     },
     "metadata": {},
     "output_type": "display_data"
    },
    {
     "data": {
      "text/plain": "<Figure size 1000x600 with 0 Axes>"
     },
     "metadata": {},
     "output_type": "display_data"
    },
    {
     "data": {
      "text/plain": "<Figure size 1000x600 with 0 Axes>"
     },
     "metadata": {},
     "output_type": "display_data"
    },
    {
     "data": {
      "text/plain": "<Figure size 1000x600 with 0 Axes>"
     },
     "metadata": {},
     "output_type": "display_data"
    },
    {
     "data": {
      "text/plain": "<Figure size 1000x600 with 0 Axes>"
     },
     "metadata": {},
     "output_type": "display_data"
    },
    {
     "data": {
      "text/plain": "<Figure size 1000x600 with 0 Axes>"
     },
     "metadata": {},
     "output_type": "display_data"
    },
    {
     "data": {
      "text/plain": "<Figure size 1000x600 with 0 Axes>"
     },
     "metadata": {},
     "output_type": "display_data"
    },
    {
     "data": {
      "text/plain": "<Figure size 1000x600 with 0 Axes>"
     },
     "metadata": {},
     "output_type": "display_data"
    },
    {
     "data": {
      "text/plain": "<Figure size 1000x600 with 0 Axes>"
     },
     "metadata": {},
     "output_type": "display_data"
    },
    {
     "data": {
      "text/plain": "<Figure size 1000x600 with 0 Axes>"
     },
     "metadata": {},
     "output_type": "display_data"
    },
    {
     "data": {
      "text/plain": "<Figure size 1000x600 with 0 Axes>"
     },
     "metadata": {},
     "output_type": "display_data"
    },
    {
     "data": {
      "text/plain": "<Figure size 1000x600 with 0 Axes>"
     },
     "metadata": {},
     "output_type": "display_data"
    },
    {
     "data": {
      "text/plain": "<Figure size 1000x600 with 0 Axes>"
     },
     "metadata": {},
     "output_type": "display_data"
    }
   ],
   "source": [
    "import os\n",
    "import pandas as pd\n",
    "import matplotlib.pyplot as plt\n",
    "\n",
    "# Ścieżka do katalogu z wynikami\n",
    "results_dir = 'results_100k'\n",
    "\n",
    "# Funkcja do rysowania wykresu słupkowego z pliku CSV\n",
    "def plot_bar_chart(csv_file, output_file):\n",
    "    # Wczytaj dane z pliku CSV\n",
    "    df = pd.read_csv(csv_file)\n",
    "\n",
    "    # Rysowanie wykresu\n",
    "    plt.figure(figsize=(10, 6))\n",
    "    df.plot(kind='bar')\n",
    "    \n",
    "    # Dodawanie tytułu i etykiet osi\n",
    "    plt.title(f'Results from {os.path.basename(csv_file)}')\n",
    "    plt.xlabel('Queries')\n",
    "    plt.ylabel('Time (ms)')\n",
    "    plt.legend(title='Database')\n",
    "    plt.tight_layout()\n",
    "\n",
    "    # Zapisz wykres do pliku\n",
    "    plt.savefig(output_file)\n",
    "    plt.close()\n",
    "\n",
    "# Przechodzenie przez strukturę katalogów i tworzenie wykresów\n",
    "for root, dirs, files in os.walk(results_dir):\n",
    "    for file in files:\n",
    "        if file.endswith('.csv'):\n",
    "            csv_file = os.path.join(root, file)\n",
    "            output_file = os.path.splitext(csv_file)[0] + '.png'\n",
    "            plot_bar_chart(csv_file, output_file)\n"
   ]
  },
  {
   "cell_type": "code",
   "outputs": [
    {
     "name": "stdout",
     "output_type": "stream",
     "text": [
      "Reading result/deletes/simple_delete.csv with shape (3, 3)\n",
      "Reading result/deletes/complex_deletes.csv with shape (3, 3)\n",
      "Reading result/updates/simple_updates.csv with shape (3, 3)\n",
      "Reading result/updates/complex_update.csv with shape (3, 3)\n",
      "Reading result/select/complex_select.csv with shape (3, 3)\n",
      "Reading result/select/simple_select.csv with shape (3, 3)\n",
      "Reading result/inserts/complex_inserts.csv with shape (3, 3)\n",
      "Reading result/inserts/simple_inserts.csv with shape (3, 3)\n"
     ]
    }
   ],
   "source": [
    "import os\n",
    "import pandas as pd\n",
    "import matplotlib.pyplot as plt\n",
    "\n",
    "# Ścieżka do katalogu z wynikami\n",
    "results_dir = 'result'\n",
    "\n",
    "# Funkcja do rysowania wykresu słupkowego z pliku CSV\n",
    "def plot_bar_chart(csv_file, output_file):\n",
    "    try:\n",
    "        # Wczytaj dane z pliku CSV z nagłówkami\n",
    "        df = pd.read_csv(csv_file)\n",
    "\n",
    "        # Sprawdzenie liczby wierszy i kolumn\n",
    "        print(f'Reading {csv_file} with shape {df.shape}')\n",
    "\n",
    "        # Rysowanie wykresu\n",
    "        plt.figure(figsize=(10, 6))\n",
    "        df.index = ['1k records', '10k records', '100k records']\n",
    "        df.plot(kind='bar', ax=plt.gca())\n",
    "        \n",
    "        # Dodawanie tytułu i etykiet osi\n",
    "        plt.title(f'Results from {os.path.basename(csv_file)}')\n",
    "        plt.xlabel('Number of Records')\n",
    "        plt.ylabel('Time (ms)')\n",
    "        plt.legend(title='Database')\n",
    "        plt.tight_layout()\n",
    "\n",
    "        # Zapisz wykres do pliku\n",
    "        plt.savefig(output_file)\n",
    "        plt.close()\n",
    "    except Exception as e:\n",
    "        print(f'Error processing {csv_file}: {e}')\n",
    "\n",
    "# Przechodzenie przez strukturę katalogów i tworzenie wykresów\n",
    "for root, dirs, files in os.walk(results_dir):\n",
    "    for file in files:\n",
    "        if file.endswith('.csv'):\n",
    "            csv_file = os.path.join(root, file)\n",
    "            output_file = os.path.splitext(csv_file)[0] + '.png'\n",
    "            plot_bar_chart(csv_file, output_file)\n"
   ],
   "metadata": {
    "collapsed": false,
    "ExecuteTime": {
     "end_time": "2024-06-01T08:06:08.165526Z",
     "start_time": "2024-06-01T08:06:05.988607Z"
    }
   },
   "id": "a2d4881d6955bfd1",
   "execution_count": 17
  },
  {
   "cell_type": "code",
   "outputs": [],
   "source": [],
   "metadata": {
    "collapsed": false
   },
   "id": "3608665212e88881"
  }
 ],
 "metadata": {
  "kernelspec": {
   "display_name": "Python 3",
   "language": "python",
   "name": "python3"
  },
  "language_info": {
   "codemirror_mode": {
    "name": "ipython",
    "version": 2
   },
   "file_extension": ".py",
   "mimetype": "text/x-python",
   "name": "python",
   "nbconvert_exporter": "python",
   "pygments_lexer": "ipython2",
   "version": "2.7.6"
  }
 },
 "nbformat": 4,
 "nbformat_minor": 5
}
